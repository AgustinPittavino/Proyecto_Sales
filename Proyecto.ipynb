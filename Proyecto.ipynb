{
 "cells": [
  {
   "attachments": {},
   "cell_type": "markdown",
   "metadata": {},
   "source": [
    "## Importamos las librerias que vamos a utlizar en este proyecto, en este caso: Pandas, Numpy y Seaborn"
   ]
  },
  {
   "cell_type": "code",
   "execution_count": 85,
   "metadata": {},
   "outputs": [],
   "source": [
    "import pandas as pd\n",
    "import numpy as np\n",
    "import seaborn as sns\n",
    "import math"
   ]
  },
  {
   "attachments": {},
   "cell_type": "markdown",
   "metadata": {},
   "source": [
    "## Importamos el dataset .csv\n"
   ]
  },
  {
   "cell_type": "code",
   "execution_count": 86,
   "metadata": {},
   "outputs": [
    {
     "data": {
      "text/html": [
       "<div>\n",
       "<style scoped>\n",
       "    .dataframe tbody tr th:only-of-type {\n",
       "        vertical-align: middle;\n",
       "    }\n",
       "\n",
       "    .dataframe tbody tr th {\n",
       "        vertical-align: top;\n",
       "    }\n",
       "\n",
       "    .dataframe thead th {\n",
       "        text-align: right;\n",
       "    }\n",
       "</style>\n",
       "<table border=\"1\" class=\"dataframe\">\n",
       "  <thead>\n",
       "    <tr style=\"text-align: right;\">\n",
       "      <th></th>\n",
       "      <th>product_id</th>\n",
       "      <th>product_name</th>\n",
       "      <th>category</th>\n",
       "      <th>discounted_price</th>\n",
       "      <th>actual_price</th>\n",
       "      <th>discount_percentage</th>\n",
       "      <th>rating</th>\n",
       "      <th>rating_count</th>\n",
       "      <th>about_product</th>\n",
       "      <th>user_id</th>\n",
       "      <th>user_name</th>\n",
       "      <th>review_id</th>\n",
       "      <th>review_title</th>\n",
       "      <th>review_content</th>\n",
       "      <th>img_link</th>\n",
       "      <th>product_link</th>\n",
       "    </tr>\n",
       "  </thead>\n",
       "  <tbody>\n",
       "    <tr>\n",
       "      <th>0</th>\n",
       "      <td>B07JW9H4J1</td>\n",
       "      <td>Wayona Nylon Braided USB to Lightning Fast Cha...</td>\n",
       "      <td>Computers&amp;Accessories|Accessories&amp;Peripherals|...</td>\n",
       "      <td>₹399</td>\n",
       "      <td>₹1,099</td>\n",
       "      <td>64%</td>\n",
       "      <td>4.2</td>\n",
       "      <td>24,269</td>\n",
       "      <td>High Compatibility : Compatible With iPhone 12...</td>\n",
       "      <td>AG3D6O4STAQKAY2UVGEUV46KN35Q,AHMY5CWJMMK5BJRBB...</td>\n",
       "      <td>Manav,Adarsh gupta,Sundeep,S.Sayeed Ahmed,jasp...</td>\n",
       "      <td>R3HXWT0LRP0NMF,R2AJM3LFTLZHFO,R6AQJGUP6P86,R1K...</td>\n",
       "      <td>Satisfied,Charging is really fast,Value for mo...</td>\n",
       "      <td>Looks durable Charging is fine tooNo complains...</td>\n",
       "      <td>https://m.media-amazon.com/images/W/WEBP_40237...</td>\n",
       "      <td>https://www.amazon.in/Wayona-Braided-WN3LG1-Sy...</td>\n",
       "    </tr>\n",
       "    <tr>\n",
       "      <th>1</th>\n",
       "      <td>B098NS6PVG</td>\n",
       "      <td>Ambrane Unbreakable 60W / 3A Fast Charging 1.5...</td>\n",
       "      <td>Computers&amp;Accessories|Accessories&amp;Peripherals|...</td>\n",
       "      <td>₹199</td>\n",
       "      <td>₹349</td>\n",
       "      <td>43%</td>\n",
       "      <td>4.0</td>\n",
       "      <td>43,994</td>\n",
       "      <td>Compatible with all Type C enabled devices, be...</td>\n",
       "      <td>AECPFYFQVRUWC3KGNLJIOREFP5LQ,AGYYVPDD7YG7FYNBX...</td>\n",
       "      <td>ArdKn,Nirbhay kumar,Sagar Viswanathan,Asp,Plac...</td>\n",
       "      <td>RGIQEG07R9HS2,R1SMWZQ86XIN8U,R2J3Y1WL29GWDE,RY...</td>\n",
       "      <td>A Good Braided Cable for Your Type C Device,Go...</td>\n",
       "      <td>I ordered this cable to connect my phone to An...</td>\n",
       "      <td>https://m.media-amazon.com/images/W/WEBP_40237...</td>\n",
       "      <td>https://www.amazon.in/Ambrane-Unbreakable-Char...</td>\n",
       "    </tr>\n",
       "    <tr>\n",
       "      <th>2</th>\n",
       "      <td>B096MSW6CT</td>\n",
       "      <td>Sounce Fast Phone Charging Cable &amp; Data Sync U...</td>\n",
       "      <td>Computers&amp;Accessories|Accessories&amp;Peripherals|...</td>\n",
       "      <td>₹199</td>\n",
       "      <td>₹1,899</td>\n",
       "      <td>90%</td>\n",
       "      <td>3.9</td>\n",
       "      <td>7,928</td>\n",
       "      <td>【 Fast Charger&amp; Data Sync】-With built-in safet...</td>\n",
       "      <td>AGU3BBQ2V2DDAMOAKGFAWDDQ6QHA,AESFLDV2PT363T2AQ...</td>\n",
       "      <td>Kunal,Himanshu,viswanath,sai niharka,saqib mal...</td>\n",
       "      <td>R3J3EQQ9TZI5ZJ,R3E7WBGK7ID0KV,RWU79XKQ6I1QF,R2...</td>\n",
       "      <td>Good speed for earlier versions,Good Product,W...</td>\n",
       "      <td>Not quite durable and sturdy,https://m.media-a...</td>\n",
       "      <td>https://m.media-amazon.com/images/W/WEBP_40237...</td>\n",
       "      <td>https://www.amazon.in/Sounce-iPhone-Charging-C...</td>\n",
       "    </tr>\n",
       "    <tr>\n",
       "      <th>3</th>\n",
       "      <td>B08HDJ86NZ</td>\n",
       "      <td>boAt Deuce USB 300 2 in 1 Type-C &amp; Micro USB S...</td>\n",
       "      <td>Computers&amp;Accessories|Accessories&amp;Peripherals|...</td>\n",
       "      <td>₹329</td>\n",
       "      <td>₹699</td>\n",
       "      <td>53%</td>\n",
       "      <td>4.2</td>\n",
       "      <td>94,363</td>\n",
       "      <td>The boAt Deuce USB 300 2 in 1 cable is compati...</td>\n",
       "      <td>AEWAZDZZJLQUYVOVGBEUKSLXHQ5A,AG5HTSFRRE6NL3M5S...</td>\n",
       "      <td>Omkar dhale,JD,HEMALATHA,Ajwadh a.,amar singh ...</td>\n",
       "      <td>R3EEUZKKK9J36I,R3HJVYCLYOY554,REDECAZ7AMPQC,R1...</td>\n",
       "      <td>Good product,Good one,Nice,Really nice product...</td>\n",
       "      <td>Good product,long wire,Charges good,Nice,I bou...</td>\n",
       "      <td>https://m.media-amazon.com/images/I/41V5FtEWPk...</td>\n",
       "      <td>https://www.amazon.in/Deuce-300-Resistant-Tang...</td>\n",
       "    </tr>\n",
       "    <tr>\n",
       "      <th>4</th>\n",
       "      <td>B08CF3B7N1</td>\n",
       "      <td>Portronics Konnect L 1.2M Fast Charging 3A 8 P...</td>\n",
       "      <td>Computers&amp;Accessories|Accessories&amp;Peripherals|...</td>\n",
       "      <td>₹154</td>\n",
       "      <td>₹399</td>\n",
       "      <td>61%</td>\n",
       "      <td>4.2</td>\n",
       "      <td>16,905</td>\n",
       "      <td>[CHARGE &amp; SYNC FUNCTION]- This cable comes wit...</td>\n",
       "      <td>AE3Q6KSUK5P75D5HFYHCRAOLODSA,AFUGIFH5ZAFXRDSZH...</td>\n",
       "      <td>rahuls6099,Swasat Borah,Ajay Wadke,Pranali,RVK...</td>\n",
       "      <td>R1BP4L2HH9TFUP,R16PVJEXKV6QZS,R2UPDB81N66T4P,R...</td>\n",
       "      <td>As good as original,Decent,Good one for second...</td>\n",
       "      <td>Bought this instead of original apple, does th...</td>\n",
       "      <td>https://m.media-amazon.com/images/W/WEBP_40237...</td>\n",
       "      <td>https://www.amazon.in/Portronics-Konnect-POR-1...</td>\n",
       "    </tr>\n",
       "  </tbody>\n",
       "</table>\n",
       "</div>"
      ],
      "text/plain": [
       "   product_id                                       product_name   \n",
       "0  B07JW9H4J1  Wayona Nylon Braided USB to Lightning Fast Cha...  \\\n",
       "1  B098NS6PVG  Ambrane Unbreakable 60W / 3A Fast Charging 1.5...   \n",
       "2  B096MSW6CT  Sounce Fast Phone Charging Cable & Data Sync U...   \n",
       "3  B08HDJ86NZ  boAt Deuce USB 300 2 in 1 Type-C & Micro USB S...   \n",
       "4  B08CF3B7N1  Portronics Konnect L 1.2M Fast Charging 3A 8 P...   \n",
       "\n",
       "                                            category discounted_price   \n",
       "0  Computers&Accessories|Accessories&Peripherals|...             ₹399  \\\n",
       "1  Computers&Accessories|Accessories&Peripherals|...             ₹199   \n",
       "2  Computers&Accessories|Accessories&Peripherals|...             ₹199   \n",
       "3  Computers&Accessories|Accessories&Peripherals|...             ₹329   \n",
       "4  Computers&Accessories|Accessories&Peripherals|...             ₹154   \n",
       "\n",
       "  actual_price discount_percentage rating rating_count   \n",
       "0       ₹1,099                 64%    4.2       24,269  \\\n",
       "1         ₹349                 43%    4.0       43,994   \n",
       "2       ₹1,899                 90%    3.9        7,928   \n",
       "3         ₹699                 53%    4.2       94,363   \n",
       "4         ₹399                 61%    4.2       16,905   \n",
       "\n",
       "                                       about_product   \n",
       "0  High Compatibility : Compatible With iPhone 12...  \\\n",
       "1  Compatible with all Type C enabled devices, be...   \n",
       "2  【 Fast Charger& Data Sync】-With built-in safet...   \n",
       "3  The boAt Deuce USB 300 2 in 1 cable is compati...   \n",
       "4  [CHARGE & SYNC FUNCTION]- This cable comes wit...   \n",
       "\n",
       "                                             user_id   \n",
       "0  AG3D6O4STAQKAY2UVGEUV46KN35Q,AHMY5CWJMMK5BJRBB...  \\\n",
       "1  AECPFYFQVRUWC3KGNLJIOREFP5LQ,AGYYVPDD7YG7FYNBX...   \n",
       "2  AGU3BBQ2V2DDAMOAKGFAWDDQ6QHA,AESFLDV2PT363T2AQ...   \n",
       "3  AEWAZDZZJLQUYVOVGBEUKSLXHQ5A,AG5HTSFRRE6NL3M5S...   \n",
       "4  AE3Q6KSUK5P75D5HFYHCRAOLODSA,AFUGIFH5ZAFXRDSZH...   \n",
       "\n",
       "                                           user_name   \n",
       "0  Manav,Adarsh gupta,Sundeep,S.Sayeed Ahmed,jasp...  \\\n",
       "1  ArdKn,Nirbhay kumar,Sagar Viswanathan,Asp,Plac...   \n",
       "2  Kunal,Himanshu,viswanath,sai niharka,saqib mal...   \n",
       "3  Omkar dhale,JD,HEMALATHA,Ajwadh a.,amar singh ...   \n",
       "4  rahuls6099,Swasat Borah,Ajay Wadke,Pranali,RVK...   \n",
       "\n",
       "                                           review_id   \n",
       "0  R3HXWT0LRP0NMF,R2AJM3LFTLZHFO,R6AQJGUP6P86,R1K...  \\\n",
       "1  RGIQEG07R9HS2,R1SMWZQ86XIN8U,R2J3Y1WL29GWDE,RY...   \n",
       "2  R3J3EQQ9TZI5ZJ,R3E7WBGK7ID0KV,RWU79XKQ6I1QF,R2...   \n",
       "3  R3EEUZKKK9J36I,R3HJVYCLYOY554,REDECAZ7AMPQC,R1...   \n",
       "4  R1BP4L2HH9TFUP,R16PVJEXKV6QZS,R2UPDB81N66T4P,R...   \n",
       "\n",
       "                                        review_title   \n",
       "0  Satisfied,Charging is really fast,Value for mo...  \\\n",
       "1  A Good Braided Cable for Your Type C Device,Go...   \n",
       "2  Good speed for earlier versions,Good Product,W...   \n",
       "3  Good product,Good one,Nice,Really nice product...   \n",
       "4  As good as original,Decent,Good one for second...   \n",
       "\n",
       "                                      review_content   \n",
       "0  Looks durable Charging is fine tooNo complains...  \\\n",
       "1  I ordered this cable to connect my phone to An...   \n",
       "2  Not quite durable and sturdy,https://m.media-a...   \n",
       "3  Good product,long wire,Charges good,Nice,I bou...   \n",
       "4  Bought this instead of original apple, does th...   \n",
       "\n",
       "                                            img_link   \n",
       "0  https://m.media-amazon.com/images/W/WEBP_40237...  \\\n",
       "1  https://m.media-amazon.com/images/W/WEBP_40237...   \n",
       "2  https://m.media-amazon.com/images/W/WEBP_40237...   \n",
       "3  https://m.media-amazon.com/images/I/41V5FtEWPk...   \n",
       "4  https://m.media-amazon.com/images/W/WEBP_40237...   \n",
       "\n",
       "                                        product_link  \n",
       "0  https://www.amazon.in/Wayona-Braided-WN3LG1-Sy...  \n",
       "1  https://www.amazon.in/Ambrane-Unbreakable-Char...  \n",
       "2  https://www.amazon.in/Sounce-iPhone-Charging-C...  \n",
       "3  https://www.amazon.in/Deuce-300-Resistant-Tang...  \n",
       "4  https://www.amazon.in/Portronics-Konnect-POR-1...  "
      ]
     },
     "execution_count": 86,
     "metadata": {},
     "output_type": "execute_result"
    }
   ],
   "source": [
    "df = pd.read_csv('/Users/agustinpittavino/Proyecto1/Ventas_crudo.csv')\n",
    "df.head()"
   ]
  },
  {
   "attachments": {},
   "cell_type": "markdown",
   "metadata": {},
   "source": [
    "## Eliminamos columnas irrelevantes para este analisis\n"
   ]
  },
  {
   "cell_type": "code",
   "execution_count": 87,
   "metadata": {},
   "outputs": [],
   "source": [
    "df = df.drop(['about_product', 'user_name', 'review_id', 'review_title', \\\n",
    "             'review_content', 'img_link', 'product_link'], axis=1)\n",
    "\n"
   ]
  },
  {
   "attachments": {},
   "cell_type": "markdown",
   "metadata": {},
   "source": [
    "## Aqui realizamos una limpieza y transformacion en los datos, eliminando la simbologia y transformando los datos al tipo que corresponde"
   ]
  },
  {
   "cell_type": "code",
   "execution_count": 88,
   "metadata": {},
   "outputs": [],
   "source": [
    "df['discounted_price'] = df['discounted_price'].str.replace('₹', '').str.replace(',', '')\n",
    "df['discounted_price'] = pd.to_numeric(df['discounted_price'])\n"
   ]
  },
  {
   "cell_type": "code",
   "execution_count": 89,
   "metadata": {},
   "outputs": [],
   "source": [
    "df['actual_price'] = df['actual_price'].str.replace('₹', '').str.replace(',', '')\n",
    "df['actual_price'] = pd.to_numeric(df['actual_price'])"
   ]
  },
  {
   "cell_type": "code",
   "execution_count": 90,
   "metadata": {},
   "outputs": [],
   "source": [
    "df['discount_percentage'] = df['discount_percentage'].str.replace('%', '')\n",
    "df['discount_percentage'] = pd.to_numeric(df['discount_percentage'])\n",
    "df['discount_percentage'] = df['discount_percentage'] / 100\n"
   ]
  },
  {
   "cell_type": "code",
   "execution_count": 91,
   "metadata": {},
   "outputs": [],
   "source": [
    "df['rating_count'] = df['rating_count'].str.replace(',', '').astype('float64')"
   ]
  },
  {
   "cell_type": "code",
   "execution_count": 92,
   "metadata": {},
   "outputs": [],
   "source": [
    "df1 = df\n"
   ]
  },
  {
   "attachments": {},
   "cell_type": "markdown",
   "metadata": {},
   "source": [
    "Al intentar convertir la columna 'rating' a dato numerico, nos aparece que en una row \n",
    "hay una simbologia incorrecta ('|'), por ende la identificamos y la reemplazamos por la media de rating"
   ]
  },
  {
   "cell_type": "code",
   "execution_count": 93,
   "metadata": {},
   "outputs": [],
   "source": [
    "\n",
    "df['rating'] = df['rating'].str.replace('|', '4.0').astype('float64')"
   ]
  },
  {
   "attachments": {},
   "cell_type": "markdown",
   "metadata": {},
   "source": [
    "Vamos a extraer y limpiar la columna 'category'\n"
   ]
  },
  {
   "cell_type": "code",
   "execution_count": 94,
   "metadata": {},
   "outputs": [],
   "source": [
    "df1['category'] = df1['category'].astype('str')\n",
    "## En el dataset, category esta subdividida por '|'\n",
    "cat_split = df1['category'].str.split('|', expand=True) \n",
    "## Extraemos las categorias que son las reelevantes para este tipo de analisis\n",
    "cat_split = cat_split.rename(columns={0:'main_category', 2:'sub_category'})\n",
    "cat_split = cat_split.drop(columns=[1, 3, 4, 5, 6])\n"
   ]
  },
  {
   "cell_type": "code",
   "execution_count": 95,
   "metadata": {},
   "outputs": [],
   "source": [
    "## Las agregamos al Dataset, y eliminamos la columna 'category'\n",
    "df1 ['main_category'] = cat_split['main_category']\n",
    "df1 ['sub_category'] = cat_split['sub_category']\n",
    "df1 = df1.drop(columns='category')"
   ]
  },
  {
   "cell_type": "code",
   "execution_count": 96,
   "metadata": {},
   "outputs": [],
   "source": [
    "## Creamos una fila con la diferencia entre el precio actial y el precio de descuento\n",
    "df1['difference_price'] = df1['actual_price'] - df1['discounted_price']"
   ]
  },
  {
   "cell_type": "code",
   "execution_count": 97,
   "metadata": {},
   "outputs": [],
   "source": [
    "## Vamos a realizar una limpieza tambien en las columnas main/sub Category\n",
    "df1['sub_category'] = df1['sub_category'].str.replace('SmallKitchenAppliances', 'Kitchen Apliances').astype('str')\n",
    "df1['sub_category'] = df1['sub_category'].str.replace('Cables&Accessories', 'Cables & Accessories').astype('str')\n",
    "df1['sub_category'] = df1['sub_category'].str.replace('MobileAccessories', 'Mobile Accessories').astype('str')\n",
    "df1['sub_category'] = df1['sub_category'].str.replace('Vacuum,Cleaning&Ironing', 'Vacuum & Cleaning').astype('str')\n",
    "df1['sub_category'] = df1['sub_category'].str.replace('Smartphones&BasicMobiles', 'Smartphones').astype('str')\n",
    "df1['sub_category'] = df1['sub_category'].str.replace('Keyboards,Mice&InputDevices', 'Keyboards').astype('str')\n",
    "df1['sub_category'] = df1['sub_category'].str.replace('WaterHeaters&Geysers', 'SWater Heaters & Geysers').astype('str')\n",
    "df1['sub_category'] = df1['sub_category'].str.replace('LaptopAccessories', 'Laptop Accessories').astype('str')\n",
    "df1['sub_category'] = df1['sub_category'].str.replace('WaterPurifiers&Accessories', 'Water Purifiers & Accessories').astype('str')"
   ]
  },
  {
   "cell_type": "code",
   "execution_count": 98,
   "metadata": {},
   "outputs": [],
   "source": [
    "df1['main_category'] = df1['main_category'].str.replace('Computers&Accessories', 'Computers & Accessories').astype('str')\n",
    "df1['main_category'] = df1['main_category'].str.replace('Home&Kitchen', 'Home & Kitchen').astype('str')\n",
    "df1['main_category'] = df1['main_category'].str.replace('OfficeProducts', 'Office Products').astype('str')\n",
    "df1['main_category'] = df1['main_category'].str.replace('MusicalInstruments', 'Musical Instruments').astype('str')\n",
    "df1['main_category'] = df1['main_category'].str.replace('HomeImprovement', 'Home Improvement').astype('str')\n",
    "df1['main_category'] = df1['main_category'].str.replace('Toys&Games', 'Toys & Games').astype('str')\n",
    "df1['main_category'] = df1['main_category'].str.replace('Car&Motorbike', 'Car & Motorbike').astype('str')\n",
    "df1['main_category'] = df1['main_category'].str.replace('Health&PersonalCare', 'Health & Personal Care').astype('str')\n",
    "\n"
   ]
  },
  {
   "attachments": {},
   "cell_type": "markdown",
   "metadata": {},
   "source": [
    "Limpieza de duplicados y Nan values"
   ]
  },
  {
   "cell_type": "code",
   "execution_count": 99,
   "metadata": {},
   "outputs": [],
   "source": [
    "df1['sub_category'] = df1['sub_category'].astype('str')"
   ]
  },
  {
   "cell_type": "code",
   "execution_count": 100,
   "metadata": {},
   "outputs": [
    {
     "data": {
      "text/plain": [
       "0                Cables & Accessories\n",
       "1                Cables & Accessories\n",
       "2                Cables & Accessories\n",
       "3                Cables & Accessories\n",
       "4                Cables & Accessories\n",
       "                    ...              \n",
       "1460    Water Purifiers & Accessories\n",
       "1461                Kitchen Apliances\n",
       "1462                      RoomHeaters\n",
       "1463                             Fans\n",
       "1464                Kitchen Apliances\n",
       "Name: sub_category, Length: 1465, dtype: object"
      ]
     },
     "execution_count": 100,
     "metadata": {},
     "output_type": "execute_result"
    }
   ],
   "source": [
    "## Encontramos valores nulos en la fila 'sub_category'\n",
    "df1.loc[df1['sub_category'].isna()]\n",
    "df1['sub_category'].fillna(\"Missing\")"
   ]
  },
  {
   "cell_type": "code",
   "execution_count": 101,
   "metadata": {},
   "outputs": [
    {
     "data": {
      "text/html": [
       "<div>\n",
       "<style scoped>\n",
       "    .dataframe tbody tr th:only-of-type {\n",
       "        vertical-align: middle;\n",
       "    }\n",
       "\n",
       "    .dataframe tbody tr th {\n",
       "        vertical-align: top;\n",
       "    }\n",
       "\n",
       "    .dataframe thead th {\n",
       "        text-align: right;\n",
       "    }\n",
       "</style>\n",
       "<table border=\"1\" class=\"dataframe\">\n",
       "  <thead>\n",
       "    <tr style=\"text-align: right;\">\n",
       "      <th></th>\n",
       "      <th>product_id</th>\n",
       "      <th>product_name</th>\n",
       "      <th>discounted_price</th>\n",
       "      <th>actual_price</th>\n",
       "      <th>discount_percentage</th>\n",
       "      <th>rating</th>\n",
       "      <th>rating_count</th>\n",
       "      <th>user_id</th>\n",
       "      <th>main_category</th>\n",
       "      <th>sub_category</th>\n",
       "      <th>difference_price</th>\n",
       "    </tr>\n",
       "  </thead>\n",
       "  <tbody>\n",
       "    <tr>\n",
       "      <th>393</th>\n",
       "      <td>B08CF3B7N1</td>\n",
       "      <td>Portronics Konnect L 1.2M Fast Charging 3A 8 P...</td>\n",
       "      <td>154.0</td>\n",
       "      <td>399.0</td>\n",
       "      <td>0.61</td>\n",
       "      <td>4.2</td>\n",
       "      <td>16905.0</td>\n",
       "      <td>AE3Q6KSUK5P75D5HFYHCRAOLODSA,AFUGIFH5ZAFXRDSZH...</td>\n",
       "      <td>Computers &amp; Accessories</td>\n",
       "      <td>Cables &amp; Accessories</td>\n",
       "      <td>245.0</td>\n",
       "    </tr>\n",
       "    <tr>\n",
       "      <th>422</th>\n",
       "      <td>B08DDRGWTJ</td>\n",
       "      <td>MI Usb Type-C Cable Smartphone (Black)</td>\n",
       "      <td>229.0</td>\n",
       "      <td>299.0</td>\n",
       "      <td>0.23</td>\n",
       "      <td>4.3</td>\n",
       "      <td>30411.0</td>\n",
       "      <td>AHW6E5LQ2BDYOIVLAJGDH45J5V5Q,AF74RSGCHPZITVFSZ...</td>\n",
       "      <td>Computers &amp; Accessories</td>\n",
       "      <td>Cables &amp; Accessories</td>\n",
       "      <td>70.0</td>\n",
       "    </tr>\n",
       "    <tr>\n",
       "      <th>423</th>\n",
       "      <td>B082LZGK39</td>\n",
       "      <td>Ambrane Unbreakable 60W / 3A Fast Charging 1.5...</td>\n",
       "      <td>199.0</td>\n",
       "      <td>299.0</td>\n",
       "      <td>0.33</td>\n",
       "      <td>4.0</td>\n",
       "      <td>43994.0</td>\n",
       "      <td>AECPFYFQVRUWC3KGNLJIOREFP5LQ,AGYYVPDD7YG7FYNBX...</td>\n",
       "      <td>Computers &amp; Accessories</td>\n",
       "      <td>Cables &amp; Accessories</td>\n",
       "      <td>100.0</td>\n",
       "    </tr>\n",
       "    <tr>\n",
       "      <th>428</th>\n",
       "      <td>B08CF3D7QR</td>\n",
       "      <td>Portronics Konnect L POR-1081 Fast Charging 3A...</td>\n",
       "      <td>154.0</td>\n",
       "      <td>339.0</td>\n",
       "      <td>0.55</td>\n",
       "      <td>4.3</td>\n",
       "      <td>13391.0</td>\n",
       "      <td>AGYLPKPZHVYKKZHOTHCTYVEDAJ4A,AGTTU64JMX722LYCN...</td>\n",
       "      <td>Computers &amp; Accessories</td>\n",
       "      <td>Cables &amp; Accessories</td>\n",
       "      <td>185.0</td>\n",
       "    </tr>\n",
       "    <tr>\n",
       "      <th>456</th>\n",
       "      <td>B09KLVMZ3B</td>\n",
       "      <td>Portronics Konnect L 1.2M POR-1401 Fast Chargi...</td>\n",
       "      <td>159.0</td>\n",
       "      <td>399.0</td>\n",
       "      <td>0.60</td>\n",
       "      <td>4.1</td>\n",
       "      <td>4768.0</td>\n",
       "      <td>AF2XXVO7JUBUVAOBTJ3MNH4DGUFQ,AH6VDJLLPBXKCWXML...</td>\n",
       "      <td>Computers &amp; Accessories</td>\n",
       "      <td>Cables &amp; Accessories</td>\n",
       "      <td>240.0</td>\n",
       "    </tr>\n",
       "    <tr>\n",
       "      <th>...</th>\n",
       "      <td>...</td>\n",
       "      <td>...</td>\n",
       "      <td>...</td>\n",
       "      <td>...</td>\n",
       "      <td>...</td>\n",
       "      <td>...</td>\n",
       "      <td>...</td>\n",
       "      <td>...</td>\n",
       "      <td>...</td>\n",
       "      <td>...</td>\n",
       "      <td>...</td>\n",
       "    </tr>\n",
       "    <tr>\n",
       "      <th>1007</th>\n",
       "      <td>B0B9BXKBC7</td>\n",
       "      <td>WeCool S5 Long Selfie Stick, with Large Reinfo...</td>\n",
       "      <td>1799.0</td>\n",
       "      <td>3999.0</td>\n",
       "      <td>0.55</td>\n",
       "      <td>4.6</td>\n",
       "      <td>245.0</td>\n",
       "      <td>AFPYH3UF3GB4RNX3MX46AXFM2FTQ,AGWEQHJSUA4YCG44R...</td>\n",
       "      <td>Electronics</td>\n",
       "      <td>Mobile Accessories</td>\n",
       "      <td>2200.0</td>\n",
       "    </tr>\n",
       "    <tr>\n",
       "      <th>1010</th>\n",
       "      <td>B07GVGTSLN</td>\n",
       "      <td>Wayona Usb Type C Fast Charger Cable Fast Char...</td>\n",
       "      <td>325.0</td>\n",
       "      <td>1299.0</td>\n",
       "      <td>0.75</td>\n",
       "      <td>4.2</td>\n",
       "      <td>10576.0</td>\n",
       "      <td>AEXK37TSBFHSP2TYE63YPKETWQ7Q,AEKMVX2VDNNX4ZFXI...</td>\n",
       "      <td>Computers &amp; Accessories</td>\n",
       "      <td>Cables &amp; Accessories</td>\n",
       "      <td>974.0</td>\n",
       "    </tr>\n",
       "    <tr>\n",
       "      <th>1017</th>\n",
       "      <td>B0B9BD2YL4</td>\n",
       "      <td>KINGONE Wireless Charging Pencil (2nd Generati...</td>\n",
       "      <td>2599.0</td>\n",
       "      <td>6999.0</td>\n",
       "      <td>0.63</td>\n",
       "      <td>4.5</td>\n",
       "      <td>1526.0</td>\n",
       "      <td>AEAX7BRPDS3NSYCZQBQDL5DGZDVA,AFI76LT4UP2L3SFJM...</td>\n",
       "      <td>Electronics</td>\n",
       "      <td>Mobile Accessories</td>\n",
       "      <td>4400.0</td>\n",
       "    </tr>\n",
       "    <tr>\n",
       "      <th>1018</th>\n",
       "      <td>B0BMXMLSMM</td>\n",
       "      <td>Lapster 65W compatible for OnePlus Dash Warp C...</td>\n",
       "      <td>199.0</td>\n",
       "      <td>999.0</td>\n",
       "      <td>0.80</td>\n",
       "      <td>4.5</td>\n",
       "      <td>127.0</td>\n",
       "      <td>AHFENRYJG4LPXDTUGEMG335VICSQ,AGSV37DJ5QTUYOXFJ...</td>\n",
       "      <td>Computers &amp; Accessories</td>\n",
       "      <td>Cables &amp; Accessories</td>\n",
       "      <td>800.0</td>\n",
       "    </tr>\n",
       "    <tr>\n",
       "      <th>1019</th>\n",
       "      <td>B0141EZMAI</td>\n",
       "      <td>Gizga Essentials USB WiFi Adapter for PC, 150 ...</td>\n",
       "      <td>269.0</td>\n",
       "      <td>800.0</td>\n",
       "      <td>0.66</td>\n",
       "      <td>3.6</td>\n",
       "      <td>10134.0</td>\n",
       "      <td>AGMJ6TDLOVZIR5ZU65TLJFSLG2BQ,AGPK7U5SHXBYBXEWB...</td>\n",
       "      <td>Computers &amp; Accessories</td>\n",
       "      <td>NetworkAdapters</td>\n",
       "      <td>531.0</td>\n",
       "    </tr>\n",
       "  </tbody>\n",
       "</table>\n",
       "<p>76 rows × 11 columns</p>\n",
       "</div>"
      ],
      "text/plain": [
       "      product_id                                       product_name   \n",
       "393   B08CF3B7N1  Portronics Konnect L 1.2M Fast Charging 3A 8 P...  \\\n",
       "422   B08DDRGWTJ             MI Usb Type-C Cable Smartphone (Black)   \n",
       "423   B082LZGK39  Ambrane Unbreakable 60W / 3A Fast Charging 1.5...   \n",
       "428   B08CF3D7QR  Portronics Konnect L POR-1081 Fast Charging 3A...   \n",
       "456   B09KLVMZ3B  Portronics Konnect L 1.2M POR-1401 Fast Chargi...   \n",
       "...          ...                                                ...   \n",
       "1007  B0B9BXKBC7  WeCool S5 Long Selfie Stick, with Large Reinfo...   \n",
       "1010  B07GVGTSLN  Wayona Usb Type C Fast Charger Cable Fast Char...   \n",
       "1017  B0B9BD2YL4  KINGONE Wireless Charging Pencil (2nd Generati...   \n",
       "1018  B0BMXMLSMM  Lapster 65W compatible for OnePlus Dash Warp C...   \n",
       "1019  B0141EZMAI  Gizga Essentials USB WiFi Adapter for PC, 150 ...   \n",
       "\n",
       "      discounted_price  actual_price  discount_percentage  rating   \n",
       "393              154.0         399.0                 0.61     4.2  \\\n",
       "422              229.0         299.0                 0.23     4.3   \n",
       "423              199.0         299.0                 0.33     4.0   \n",
       "428              154.0         339.0                 0.55     4.3   \n",
       "456              159.0         399.0                 0.60     4.1   \n",
       "...                ...           ...                  ...     ...   \n",
       "1007            1799.0        3999.0                 0.55     4.6   \n",
       "1010             325.0        1299.0                 0.75     4.2   \n",
       "1017            2599.0        6999.0                 0.63     4.5   \n",
       "1018             199.0         999.0                 0.80     4.5   \n",
       "1019             269.0         800.0                 0.66     3.6   \n",
       "\n",
       "      rating_count                                            user_id   \n",
       "393        16905.0  AE3Q6KSUK5P75D5HFYHCRAOLODSA,AFUGIFH5ZAFXRDSZH...  \\\n",
       "422        30411.0  AHW6E5LQ2BDYOIVLAJGDH45J5V5Q,AF74RSGCHPZITVFSZ...   \n",
       "423        43994.0  AECPFYFQVRUWC3KGNLJIOREFP5LQ,AGYYVPDD7YG7FYNBX...   \n",
       "428        13391.0  AGYLPKPZHVYKKZHOTHCTYVEDAJ4A,AGTTU64JMX722LYCN...   \n",
       "456         4768.0  AF2XXVO7JUBUVAOBTJ3MNH4DGUFQ,AH6VDJLLPBXKCWXML...   \n",
       "...            ...                                                ...   \n",
       "1007         245.0  AFPYH3UF3GB4RNX3MX46AXFM2FTQ,AGWEQHJSUA4YCG44R...   \n",
       "1010       10576.0  AEXK37TSBFHSP2TYE63YPKETWQ7Q,AEKMVX2VDNNX4ZFXI...   \n",
       "1017        1526.0  AEAX7BRPDS3NSYCZQBQDL5DGZDVA,AFI76LT4UP2L3SFJM...   \n",
       "1018         127.0  AHFENRYJG4LPXDTUGEMG335VICSQ,AGSV37DJ5QTUYOXFJ...   \n",
       "1019       10134.0  AGMJ6TDLOVZIR5ZU65TLJFSLG2BQ,AGPK7U5SHXBYBXEWB...   \n",
       "\n",
       "                main_category          sub_category  difference_price  \n",
       "393   Computers & Accessories  Cables & Accessories             245.0  \n",
       "422   Computers & Accessories  Cables & Accessories              70.0  \n",
       "423   Computers & Accessories  Cables & Accessories             100.0  \n",
       "428   Computers & Accessories  Cables & Accessories             185.0  \n",
       "456   Computers & Accessories  Cables & Accessories             240.0  \n",
       "...                       ...                   ...               ...  \n",
       "1007              Electronics    Mobile Accessories            2200.0  \n",
       "1010  Computers & Accessories  Cables & Accessories             974.0  \n",
       "1017              Electronics    Mobile Accessories            4400.0  \n",
       "1018  Computers & Accessories  Cables & Accessories             800.0  \n",
       "1019  Computers & Accessories       NetworkAdapters             531.0  \n",
       "\n",
       "[76 rows x 11 columns]"
      ]
     },
     "execution_count": 101,
     "metadata": {},
     "output_type": "execute_result"
    }
   ],
   "source": [
    "## No encontramos valores con los datos duplicados\n",
    "df1.loc[df1.duplicated()]"
   ]
  },
  {
   "cell_type": "code",
   "execution_count": 102,
   "metadata": {},
   "outputs": [
    {
     "data": {
      "text/html": [
       "<div>\n",
       "<style scoped>\n",
       "    .dataframe tbody tr th:only-of-type {\n",
       "        vertical-align: middle;\n",
       "    }\n",
       "\n",
       "    .dataframe tbody tr th {\n",
       "        vertical-align: top;\n",
       "    }\n",
       "\n",
       "    .dataframe thead th {\n",
       "        text-align: right;\n",
       "    }\n",
       "</style>\n",
       "<table border=\"1\" class=\"dataframe\">\n",
       "  <thead>\n",
       "    <tr style=\"text-align: right;\">\n",
       "      <th></th>\n",
       "      <th>index</th>\n",
       "      <th>product_id</th>\n",
       "      <th>product_name</th>\n",
       "      <th>discounted_price</th>\n",
       "      <th>actual_price</th>\n",
       "      <th>discount_percentage</th>\n",
       "      <th>rating</th>\n",
       "      <th>rating_count</th>\n",
       "      <th>user_id</th>\n",
       "      <th>main_category</th>\n",
       "      <th>sub_category</th>\n",
       "      <th>difference_price</th>\n",
       "    </tr>\n",
       "  </thead>\n",
       "  <tbody>\n",
       "    <tr>\n",
       "      <th>0</th>\n",
       "      <td>0</td>\n",
       "      <td>B07JW9H4J1</td>\n",
       "      <td>Wayona Nylon Braided USB to Lightning Fast Cha...</td>\n",
       "      <td>399.0</td>\n",
       "      <td>1099.0</td>\n",
       "      <td>0.64</td>\n",
       "      <td>4.2</td>\n",
       "      <td>24269.0</td>\n",
       "      <td>AG3D6O4STAQKAY2UVGEUV46KN35Q,AHMY5CWJMMK5BJRBB...</td>\n",
       "      <td>Computers &amp; Accessories</td>\n",
       "      <td>Cables &amp; Accessories</td>\n",
       "      <td>700.0</td>\n",
       "    </tr>\n",
       "    <tr>\n",
       "      <th>1</th>\n",
       "      <td>1</td>\n",
       "      <td>B098NS6PVG</td>\n",
       "      <td>Ambrane Unbreakable 60W / 3A Fast Charging 1.5...</td>\n",
       "      <td>199.0</td>\n",
       "      <td>349.0</td>\n",
       "      <td>0.43</td>\n",
       "      <td>4.0</td>\n",
       "      <td>43994.0</td>\n",
       "      <td>AECPFYFQVRUWC3KGNLJIOREFP5LQ,AGYYVPDD7YG7FYNBX...</td>\n",
       "      <td>Computers &amp; Accessories</td>\n",
       "      <td>Cables &amp; Accessories</td>\n",
       "      <td>150.0</td>\n",
       "    </tr>\n",
       "    <tr>\n",
       "      <th>2</th>\n",
       "      <td>2</td>\n",
       "      <td>B096MSW6CT</td>\n",
       "      <td>Sounce Fast Phone Charging Cable &amp; Data Sync U...</td>\n",
       "      <td>199.0</td>\n",
       "      <td>1899.0</td>\n",
       "      <td>0.90</td>\n",
       "      <td>3.9</td>\n",
       "      <td>7928.0</td>\n",
       "      <td>AGU3BBQ2V2DDAMOAKGFAWDDQ6QHA,AESFLDV2PT363T2AQ...</td>\n",
       "      <td>Computers &amp; Accessories</td>\n",
       "      <td>Cables &amp; Accessories</td>\n",
       "      <td>1700.0</td>\n",
       "    </tr>\n",
       "    <tr>\n",
       "      <th>3</th>\n",
       "      <td>3</td>\n",
       "      <td>B08HDJ86NZ</td>\n",
       "      <td>boAt Deuce USB 300 2 in 1 Type-C &amp; Micro USB S...</td>\n",
       "      <td>329.0</td>\n",
       "      <td>699.0</td>\n",
       "      <td>0.53</td>\n",
       "      <td>4.2</td>\n",
       "      <td>94363.0</td>\n",
       "      <td>AEWAZDZZJLQUYVOVGBEUKSLXHQ5A,AG5HTSFRRE6NL3M5S...</td>\n",
       "      <td>Computers &amp; Accessories</td>\n",
       "      <td>Cables &amp; Accessories</td>\n",
       "      <td>370.0</td>\n",
       "    </tr>\n",
       "    <tr>\n",
       "      <th>4</th>\n",
       "      <td>4</td>\n",
       "      <td>B08CF3B7N1</td>\n",
       "      <td>Portronics Konnect L 1.2M Fast Charging 3A 8 P...</td>\n",
       "      <td>154.0</td>\n",
       "      <td>399.0</td>\n",
       "      <td>0.61</td>\n",
       "      <td>4.2</td>\n",
       "      <td>16905.0</td>\n",
       "      <td>AE3Q6KSUK5P75D5HFYHCRAOLODSA,AFUGIFH5ZAFXRDSZH...</td>\n",
       "      <td>Computers &amp; Accessories</td>\n",
       "      <td>Cables &amp; Accessories</td>\n",
       "      <td>245.0</td>\n",
       "    </tr>\n",
       "  </tbody>\n",
       "</table>\n",
       "</div>"
      ],
      "text/plain": [
       "   index  product_id                                       product_name   \n",
       "0      0  B07JW9H4J1  Wayona Nylon Braided USB to Lightning Fast Cha...  \\\n",
       "1      1  B098NS6PVG  Ambrane Unbreakable 60W / 3A Fast Charging 1.5...   \n",
       "2      2  B096MSW6CT  Sounce Fast Phone Charging Cable & Data Sync U...   \n",
       "3      3  B08HDJ86NZ  boAt Deuce USB 300 2 in 1 Type-C & Micro USB S...   \n",
       "4      4  B08CF3B7N1  Portronics Konnect L 1.2M Fast Charging 3A 8 P...   \n",
       "\n",
       "   discounted_price  actual_price  discount_percentage  rating  rating_count   \n",
       "0             399.0        1099.0                 0.64     4.2       24269.0  \\\n",
       "1             199.0         349.0                 0.43     4.0       43994.0   \n",
       "2             199.0        1899.0                 0.90     3.9        7928.0   \n",
       "3             329.0         699.0                 0.53     4.2       94363.0   \n",
       "4             154.0         399.0                 0.61     4.2       16905.0   \n",
       "\n",
       "                                             user_id            main_category   \n",
       "0  AG3D6O4STAQKAY2UVGEUV46KN35Q,AHMY5CWJMMK5BJRBB...  Computers & Accessories  \\\n",
       "1  AECPFYFQVRUWC3KGNLJIOREFP5LQ,AGYYVPDD7YG7FYNBX...  Computers & Accessories   \n",
       "2  AGU3BBQ2V2DDAMOAKGFAWDDQ6QHA,AESFLDV2PT363T2AQ...  Computers & Accessories   \n",
       "3  AEWAZDZZJLQUYVOVGBEUKSLXHQ5A,AG5HTSFRRE6NL3M5S...  Computers & Accessories   \n",
       "4  AE3Q6KSUK5P75D5HFYHCRAOLODSA,AFUGIFH5ZAFXRDSZH...  Computers & Accessories   \n",
       "\n",
       "           sub_category  difference_price  \n",
       "0  Cables & Accessories             700.0  \n",
       "1  Cables & Accessories             150.0  \n",
       "2  Cables & Accessories            1700.0  \n",
       "3  Cables & Accessories             370.0  \n",
       "4  Cables & Accessories             245.0  "
      ]
     },
     "execution_count": 102,
     "metadata": {},
     "output_type": "execute_result"
    }
   ],
   "source": [
    "df1.reset_index().head()"
   ]
  },
  {
   "cell_type": "code",
   "execution_count": 103,
   "metadata": {},
   "outputs": [
    {
     "data": {
      "text/plain": [
       "user_id\n",
       "AG5DWPD54QGSLWJ6QUFERLPNAX4Q    11\n",
       "AE55KTFVNXYFD5FPYWP2OUPEYNPQ    11\n",
       "AECPFYFQVRUWC3KGNLJIOREFP5LQ    10\n",
       "AHIKJUDTVJ4T6DV6IUGFYZ5LXMPA    10\n",
       "AHMGAC6QM62UXNEOCZIHLHSXPP2Q    10\n",
       "                                ..\n",
       "AGTC43ZF53CWD5YIEPDMGMDP22TQ     1\n",
       "AGKSHSI672DMOJKNVYC33PPKNISQ     1\n",
       "AGK3NNXG44TLWHYTJ2OAY4JMD3VA     1\n",
       "AF7QEOPISA5J33YVAQWX2EGDEPUQ     1\n",
       "AGEFL3AY7YXEFZA4ZJU3LP7K7OJQ     1\n",
       "Name: count, Length: 9050, dtype: int64"
      ]
     },
     "execution_count": 103,
     "metadata": {},
     "output_type": "execute_result"
    }
   ],
   "source": [
    "## En este paso, nos percatamos que el DB esta incompleto, ya que disponemos de 1465 rows y de 9050 Usuarios diferentes,\n",
    "## guardaremos los datos para en un futuro relacionarlos con otros DB\n",
    "users = df1['user_id'].str.split(',', expand=False)\n",
    "users_clean = users.explode()\n",
    "users_clean = users_clean.reset_index(drop=True)\n",
    "users_clean.value_counts()\n"
   ]
  },
  {
   "cell_type": "code",
   "execution_count": 104,
   "metadata": {},
   "outputs": [],
   "source": [
    "df1 = df1.drop(columns='user_id',axis=0)"
   ]
  },
  {
   "cell_type": "code",
   "execution_count": 105,
   "metadata": {},
   "outputs": [
    {
     "data": {
      "text/plain": [
       "main_category\n",
       "Electronics                526\n",
       "Computers & Accessories    453\n",
       "Home & Kitchen             448\n",
       "Office Products             31\n",
       "Musical Instruments          2\n",
       "Home Improvement             2\n",
       "Toys & Games                 1\n",
       "Car & Motorbike              1\n",
       "Health & Personal Care       1\n",
       "Name: count, dtype: int64"
      ]
     },
     "execution_count": 105,
     "metadata": {},
     "output_type": "execute_result"
    }
   ],
   "source": [
    "df1['main_category'].value_counts()"
   ]
  },
  {
   "cell_type": "code",
   "execution_count": 106,
   "metadata": {},
   "outputs": [],
   "source": [
    "## Realizamos una transformacion a .csv y guardamos para tener una copia de respaldo del dataset ya limpio\n",
    "df1.to_csv('/Users/agustinpittavino/Proyecto1/proyect.csv')"
   ]
  },
  {
   "cell_type": "code",
   "execution_count": 113,
   "metadata": {},
   "outputs": [
    {
     "data": {
      "text/html": [
       "<div>\n",
       "<style scoped>\n",
       "    .dataframe tbody tr th:only-of-type {\n",
       "        vertical-align: middle;\n",
       "    }\n",
       "\n",
       "    .dataframe tbody tr th {\n",
       "        vertical-align: top;\n",
       "    }\n",
       "\n",
       "    .dataframe thead th {\n",
       "        text-align: right;\n",
       "    }\n",
       "</style>\n",
       "<table border=\"1\" class=\"dataframe\">\n",
       "  <thead>\n",
       "    <tr style=\"text-align: right;\">\n",
       "      <th></th>\n",
       "      <th>product_id</th>\n",
       "      <th>product_name</th>\n",
       "      <th>discounted_price</th>\n",
       "      <th>actual_price</th>\n",
       "      <th>discount_percentage</th>\n",
       "      <th>rating</th>\n",
       "      <th>rating_count</th>\n",
       "      <th>main_category</th>\n",
       "      <th>sub_category</th>\n",
       "      <th>difference_price</th>\n",
       "    </tr>\n",
       "  </thead>\n",
       "  <tbody>\n",
       "    <tr>\n",
       "      <th>0</th>\n",
       "      <td>B07JW9H4J1</td>\n",
       "      <td>Wayona Nylon Braided USB to Lightning Fast Cha...</td>\n",
       "      <td>399.00</td>\n",
       "      <td>1099.0</td>\n",
       "      <td>0.64</td>\n",
       "      <td>4.2</td>\n",
       "      <td>24269.0</td>\n",
       "      <td>Computers &amp; Accessories</td>\n",
       "      <td>Cables &amp; Accessories</td>\n",
       "      <td>700.00</td>\n",
       "    </tr>\n",
       "    <tr>\n",
       "      <th>1</th>\n",
       "      <td>B098NS6PVG</td>\n",
       "      <td>Ambrane Unbreakable 60W / 3A Fast Charging 1.5...</td>\n",
       "      <td>199.00</td>\n",
       "      <td>349.0</td>\n",
       "      <td>0.43</td>\n",
       "      <td>4.0</td>\n",
       "      <td>43994.0</td>\n",
       "      <td>Computers &amp; Accessories</td>\n",
       "      <td>Cables &amp; Accessories</td>\n",
       "      <td>150.00</td>\n",
       "    </tr>\n",
       "    <tr>\n",
       "      <th>2</th>\n",
       "      <td>B096MSW6CT</td>\n",
       "      <td>Sounce Fast Phone Charging Cable &amp; Data Sync U...</td>\n",
       "      <td>199.00</td>\n",
       "      <td>1899.0</td>\n",
       "      <td>0.90</td>\n",
       "      <td>3.9</td>\n",
       "      <td>7928.0</td>\n",
       "      <td>Computers &amp; Accessories</td>\n",
       "      <td>Cables &amp; Accessories</td>\n",
       "      <td>1700.00</td>\n",
       "    </tr>\n",
       "    <tr>\n",
       "      <th>3</th>\n",
       "      <td>B08HDJ86NZ</td>\n",
       "      <td>boAt Deuce USB 300 2 in 1 Type-C &amp; Micro USB S...</td>\n",
       "      <td>329.00</td>\n",
       "      <td>699.0</td>\n",
       "      <td>0.53</td>\n",
       "      <td>4.2</td>\n",
       "      <td>94363.0</td>\n",
       "      <td>Computers &amp; Accessories</td>\n",
       "      <td>Cables &amp; Accessories</td>\n",
       "      <td>370.00</td>\n",
       "    </tr>\n",
       "    <tr>\n",
       "      <th>4</th>\n",
       "      <td>B08CF3B7N1</td>\n",
       "      <td>Portronics Konnect L 1.2M Fast Charging 3A 8 P...</td>\n",
       "      <td>154.00</td>\n",
       "      <td>399.0</td>\n",
       "      <td>0.61</td>\n",
       "      <td>4.2</td>\n",
       "      <td>16905.0</td>\n",
       "      <td>Computers &amp; Accessories</td>\n",
       "      <td>Cables &amp; Accessories</td>\n",
       "      <td>245.00</td>\n",
       "    </tr>\n",
       "    <tr>\n",
       "      <th>5</th>\n",
       "      <td>B08Y1TFSP6</td>\n",
       "      <td>pTron Solero TB301 3A Type-C Data and Fast Cha...</td>\n",
       "      <td>149.00</td>\n",
       "      <td>1000.0</td>\n",
       "      <td>0.85</td>\n",
       "      <td>3.9</td>\n",
       "      <td>24871.0</td>\n",
       "      <td>Computers &amp; Accessories</td>\n",
       "      <td>Cables &amp; Accessories</td>\n",
       "      <td>851.00</td>\n",
       "    </tr>\n",
       "    <tr>\n",
       "      <th>6</th>\n",
       "      <td>B08WRWPM22</td>\n",
       "      <td>boAt Micro USB 55 Tangle-free, Sturdy Micro US...</td>\n",
       "      <td>176.63</td>\n",
       "      <td>499.0</td>\n",
       "      <td>0.65</td>\n",
       "      <td>4.1</td>\n",
       "      <td>15188.0</td>\n",
       "      <td>Computers &amp; Accessories</td>\n",
       "      <td>Cables &amp; Accessories</td>\n",
       "      <td>322.37</td>\n",
       "    </tr>\n",
       "    <tr>\n",
       "      <th>7</th>\n",
       "      <td>B08DDRGWTJ</td>\n",
       "      <td>MI Usb Type-C Cable Smartphone (Black)</td>\n",
       "      <td>229.00</td>\n",
       "      <td>299.0</td>\n",
       "      <td>0.23</td>\n",
       "      <td>4.3</td>\n",
       "      <td>30411.0</td>\n",
       "      <td>Computers &amp; Accessories</td>\n",
       "      <td>Cables &amp; Accessories</td>\n",
       "      <td>70.00</td>\n",
       "    </tr>\n",
       "    <tr>\n",
       "      <th>8</th>\n",
       "      <td>B008IFXQFU</td>\n",
       "      <td>TP-Link USB WiFi Adapter for PC(TL-WN725N), N1...</td>\n",
       "      <td>499.00</td>\n",
       "      <td>999.0</td>\n",
       "      <td>0.50</td>\n",
       "      <td>4.2</td>\n",
       "      <td>179691.0</td>\n",
       "      <td>Computers &amp; Accessories</td>\n",
       "      <td>NetworkAdapters</td>\n",
       "      <td>500.00</td>\n",
       "    </tr>\n",
       "    <tr>\n",
       "      <th>9</th>\n",
       "      <td>B082LZGK39</td>\n",
       "      <td>Ambrane Unbreakable 60W / 3A Fast Charging 1.5...</td>\n",
       "      <td>199.00</td>\n",
       "      <td>299.0</td>\n",
       "      <td>0.33</td>\n",
       "      <td>4.0</td>\n",
       "      <td>43994.0</td>\n",
       "      <td>Computers &amp; Accessories</td>\n",
       "      <td>Cables &amp; Accessories</td>\n",
       "      <td>100.00</td>\n",
       "    </tr>\n",
       "  </tbody>\n",
       "</table>\n",
       "</div>"
      ],
      "text/plain": [
       "   product_id                                       product_name   \n",
       "0  B07JW9H4J1  Wayona Nylon Braided USB to Lightning Fast Cha...  \\\n",
       "1  B098NS6PVG  Ambrane Unbreakable 60W / 3A Fast Charging 1.5...   \n",
       "2  B096MSW6CT  Sounce Fast Phone Charging Cable & Data Sync U...   \n",
       "3  B08HDJ86NZ  boAt Deuce USB 300 2 in 1 Type-C & Micro USB S...   \n",
       "4  B08CF3B7N1  Portronics Konnect L 1.2M Fast Charging 3A 8 P...   \n",
       "5  B08Y1TFSP6  pTron Solero TB301 3A Type-C Data and Fast Cha...   \n",
       "6  B08WRWPM22  boAt Micro USB 55 Tangle-free, Sturdy Micro US...   \n",
       "7  B08DDRGWTJ             MI Usb Type-C Cable Smartphone (Black)   \n",
       "8  B008IFXQFU  TP-Link USB WiFi Adapter for PC(TL-WN725N), N1...   \n",
       "9  B082LZGK39  Ambrane Unbreakable 60W / 3A Fast Charging 1.5...   \n",
       "\n",
       "   discounted_price  actual_price  discount_percentage  rating  rating_count   \n",
       "0            399.00        1099.0                 0.64     4.2       24269.0  \\\n",
       "1            199.00         349.0                 0.43     4.0       43994.0   \n",
       "2            199.00        1899.0                 0.90     3.9        7928.0   \n",
       "3            329.00         699.0                 0.53     4.2       94363.0   \n",
       "4            154.00         399.0                 0.61     4.2       16905.0   \n",
       "5            149.00        1000.0                 0.85     3.9       24871.0   \n",
       "6            176.63         499.0                 0.65     4.1       15188.0   \n",
       "7            229.00         299.0                 0.23     4.3       30411.0   \n",
       "8            499.00         999.0                 0.50     4.2      179691.0   \n",
       "9            199.00         299.0                 0.33     4.0       43994.0   \n",
       "\n",
       "             main_category          sub_category  difference_price  \n",
       "0  Computers & Accessories  Cables & Accessories            700.00  \n",
       "1  Computers & Accessories  Cables & Accessories            150.00  \n",
       "2  Computers & Accessories  Cables & Accessories           1700.00  \n",
       "3  Computers & Accessories  Cables & Accessories            370.00  \n",
       "4  Computers & Accessories  Cables & Accessories            245.00  \n",
       "5  Computers & Accessories  Cables & Accessories            851.00  \n",
       "6  Computers & Accessories  Cables & Accessories            322.37  \n",
       "7  Computers & Accessories  Cables & Accessories             70.00  \n",
       "8  Computers & Accessories       NetworkAdapters            500.00  \n",
       "9  Computers & Accessories  Cables & Accessories            100.00  "
      ]
     },
     "execution_count": 113,
     "metadata": {},
     "output_type": "execute_result"
    }
   ],
   "source": [
    "df1.head(10)"
   ]
  },
  {
   "attachments": {},
   "cell_type": "markdown",
   "metadata": {},
   "source": [
    "## ************ Analisis ************"
   ]
  },
  {
   "attachments": {},
   "cell_type": "markdown",
   "metadata": {},
   "source": [
    "## Top 10 categorias principales con mas productos vendidos\n"
   ]
  },
  {
   "cell_type": "code",
   "execution_count": 107,
   "metadata": {},
   "outputs": [
    {
     "data": {
      "text/plain": [
       "<Axes: title={'center': 'Unit Sales by Category'}, xlabel='Unit Sales', ylabel='main_category'>"
      ]
     },
     "execution_count": 107,
     "metadata": {},
     "output_type": "execute_result"
    },
    {
     "data": {
      "image/png": "[encoded data removed]",
      "text/plain": [
       "<Figure size 640x480 with 1 Axes>"
      ]
     },
     "metadata": {},
     "output_type": "display_data"
    }
   ],
   "source": [
    "org_main_cat = df1['main_category'] .value_counts()  \\\n",
    "                                    .sort_values(ascending=True)\n",
    "org_main_cat.head(10).plot(kind='barh', \n",
    "                           xlabel='Unit Sales', \n",
    "                           title='Unit Sales by Category',\n",
    "                           color='cornflowerblue')\n"
   ]
  },
  {
   "attachments": {},
   "cell_type": "markdown",
   "metadata": {},
   "source": [
    "En base a este grafico, podemos resaltar que la mayor parte de ventas de este eComerce se concentran\n",
    "en las categoria de Electronics, Computer & Accessories, Home & Kitchen y Office Products, siendo las \n",
    "categorias restantes practicamente irrelevantes con respecto a ventas se refiere.\n"
   ]
  },
  {
   "attachments": {},
   "cell_type": "markdown",
   "metadata": {},
   "source": [
    "## Ventas por categorias antes de descuentos\n"
   ]
  },
  {
   "cell_type": "code",
   "execution_count": 108,
   "metadata": {},
   "outputs": [
    {
     "data": {
      "text/html": [
       "<div>\n",
       "<style scoped>\n",
       "    .dataframe tbody tr th:only-of-type {\n",
       "        vertical-align: middle;\n",
       "    }\n",
       "\n",
       "    .dataframe tbody tr th {\n",
       "        vertical-align: top;\n",
       "    }\n",
       "\n",
       "    .dataframe thead tr th {\n",
       "        text-align: left;\n",
       "    }\n",
       "\n",
       "    .dataframe thead tr:last-of-type th {\n",
       "        text-align: right;\n",
       "    }\n",
       "</style>\n",
       "<table border=\"1\" class=\"dataframe\">\n",
       "  <thead>\n",
       "    <tr>\n",
       "      <th></th>\n",
       "      <th></th>\n",
       "      <th>actual_price</th>\n",
       "    </tr>\n",
       "    <tr>\n",
       "      <th></th>\n",
       "      <th></th>\n",
       "      <th>sum</th>\n",
       "    </tr>\n",
       "    <tr>\n",
       "      <th>main_category</th>\n",
       "      <th>sub_category</th>\n",
       "      <th></th>\n",
       "    </tr>\n",
       "  </thead>\n",
       "  <tbody>\n",
       "    <tr>\n",
       "      <th rowspan=\"3\" valign=\"top\">Electronics</th>\n",
       "      <th>Televisions</th>\n",
       "      <td>2620347.00</td>\n",
       "    </tr>\n",
       "    <tr>\n",
       "      <th>Smartphones</th>\n",
       "      <td>1419754.00</td>\n",
       "    </tr>\n",
       "    <tr>\n",
       "      <th>SmartWatches</th>\n",
       "      <td>650162.00</td>\n",
       "    </tr>\n",
       "    <tr>\n",
       "      <th rowspan=\"3\" valign=\"top\">Home &amp; Kitchen</th>\n",
       "      <th>Kitchen Apliances</th>\n",
       "      <td>579344.00</td>\n",
       "    </tr>\n",
       "    <tr>\n",
       "      <th>Vacuum &amp; Cleaning</th>\n",
       "      <td>349129.00</td>\n",
       "    </tr>\n",
       "    <tr>\n",
       "      <th>SWater Heaters &amp; Geysers</th>\n",
       "      <td>256420.00</td>\n",
       "    </tr>\n",
       "    <tr>\n",
       "      <th>Computers &amp; Accessories</th>\n",
       "      <th>Cables &amp; Accessories</th>\n",
       "      <td>217397.32</td>\n",
       "    </tr>\n",
       "    <tr>\n",
       "      <th>Home &amp; Kitchen</th>\n",
       "      <th>Water Purifiers &amp; Accessories</th>\n",
       "      <td>198045.00</td>\n",
       "    </tr>\n",
       "    <tr>\n",
       "      <th>Electronics</th>\n",
       "      <th>Headphones</th>\n",
       "      <td>182574.00</td>\n",
       "    </tr>\n",
       "    <tr>\n",
       "      <th>Home &amp; Kitchen</th>\n",
       "      <th>RoomHeaters</th>\n",
       "      <td>181032.00</td>\n",
       "    </tr>\n",
       "  </tbody>\n",
       "</table>\n",
       "</div>"
      ],
      "text/plain": [
       "                                                      actual_price\n",
       "                                                               sum\n",
       "main_category           sub_category                              \n",
       "Electronics             Televisions                     2620347.00\n",
       "                        Smartphones                     1419754.00\n",
       "                        SmartWatches                     650162.00\n",
       "Home & Kitchen          Kitchen Apliances                579344.00\n",
       "                        Vacuum & Cleaning                349129.00\n",
       "                        SWater Heaters & Geysers         256420.00\n",
       "Computers & Accessories Cables & Accessories             217397.32\n",
       "Home & Kitchen          Water Purifiers & Accessories    198045.00\n",
       "Electronics             Headphones                       182574.00\n",
       "Home & Kitchen          RoomHeaters                      181032.00"
      ]
     },
     "execution_count": 108,
     "metadata": {},
     "output_type": "execute_result"
    }
   ],
   "source": [
    "sum_cat = df1.groupby(['main_category','sub_category']).agg({'actual_price':['sum']})\n",
    "sum_cat .sort_values(by=('actual_price', 'sum'), ascending=False)    \\\n",
    "        .head(10)\n",
    "\n"
   ]
  },
  {
   "attachments": {},
   "cell_type": "markdown",
   "metadata": {},
   "source": [
    "Al igual que en el recuento de unidades vendidas, podemos resaltar que Electronics, Computer & Accessories, Home & Kitchen y Office Prducts poseen la mayor cantidad de dinero recaudado, siendo las Tvs y los\n",
    "Smartphones los productos que representan las mayores ventas."
   ]
  },
  {
   "attachments": {},
   "cell_type": "markdown",
   "metadata": {},
   "source": [
    "## Correlacion entre precio actual y precio con descuento por categoria\n"
   ]
  },
  {
   "cell_type": "code",
   "execution_count": 109,
   "metadata": {},
   "outputs": [
    {
     "data": {
      "text/plain": [
       "<Axes: xlabel='actual_price', ylabel='discounted_price'>"
      ]
     },
     "execution_count": 109,
     "metadata": {},
     "output_type": "execute_result"
    },
    {
     "data": {
      "image/png": "[encoded data removed]",
      "text/plain": [
       "<Figure size 640x480 with 1 Axes>"
      ]
     },
     "metadata": {},
     "output_type": "display_data"
    }
   ],
   "source": [
    "sns.scatterplot(data=df1,\n",
    "                     x='actual_price',\n",
    "                     y='discounted_price',\n",
    "                     hue='main_category',\n",
    "                     palette='pastel')\n"
   ]
  },
  {
   "attachments": {},
   "cell_type": "markdown",
   "metadata": {},
   "source": [
    "En este grafico, podemos resaltar que siendo la categoria Electronics la que dispone de los productos \n",
    "mas costosos, tambien dispone del mayor porcentaje de descuento. \n",
    "Ademas de ello, nos permite realizar que los descuentos que se les otorgan a los productos, son considerablemente altos, esto da a entender que este eComerce posee una estrategia de ventas particular, habitualmente aplicada en negocios en estapa de crecimiento en el cual consiste en acaparar el mayor volumen de mercado posible, postergando utilidades."
   ]
  },
  {
   "attachments": {},
   "cell_type": "markdown",
   "metadata": {},
   "source": [
    "## Conteo de rating\n"
   ]
  },
  {
   "cell_type": "code",
   "execution_count": 110,
   "metadata": {},
   "outputs": [
    {
     "data": {
      "text/plain": [
       "<Axes: xlabel='rating', ylabel='Count'>"
      ]
     },
     "execution_count": 110,
     "metadata": {},
     "output_type": "execute_result"
    },
    {
     "data": {
      "image/png": "[encoded data removed]",
      "text/plain": [
       "<Figure size 640x480 with 1 Axes>"
      ]
     },
     "metadata": {},
     "output_type": "display_data"
    }
   ],
   "source": [
    "sns.histplot(data=df1, \n",
    "             x='rating', \n",
    "             bins=14, \n",
    "             kde=True,\n",
    "             color='cornflowerblue')"
   ]
  },
  {
   "attachments": {},
   "cell_type": "markdown",
   "metadata": {},
   "source": [
    "Este grafico nos permite ver el promedio de rating de los productos, siento este entre 4 y 4,5 puntos, da a entender que el indice de conformidad de los compradores es muy alto, realizando un analisis mas exhausitvo, podriamos determinar el porque de la conformidad de estos, si por el precio, la calidad, la entrega, entre otros factores."
   ]
  },
  {
   "attachments": {},
   "cell_type": "markdown",
   "metadata": {},
   "source": [
    "## Top 10 Productos con mayor ganancia post descuento\n"
   ]
  },
  {
   "cell_type": "code",
   "execution_count": 111,
   "metadata": {},
   "outputs": [
    {
     "data": {
      "text/html": [
       "<div>\n",
       "<style scoped>\n",
       "    .dataframe tbody tr th:only-of-type {\n",
       "        vertical-align: middle;\n",
       "    }\n",
       "\n",
       "    .dataframe tbody tr th {\n",
       "        vertical-align: top;\n",
       "    }\n",
       "\n",
       "    .dataframe thead tr th {\n",
       "        text-align: left;\n",
       "    }\n",
       "\n",
       "    .dataframe thead tr:last-of-type th {\n",
       "        text-align: right;\n",
       "    }\n",
       "</style>\n",
       "<table border=\"1\" class=\"dataframe\">\n",
       "  <thead>\n",
       "    <tr>\n",
       "      <th></th>\n",
       "      <th>discounted_price</th>\n",
       "    </tr>\n",
       "    <tr>\n",
       "      <th></th>\n",
       "      <th>sum</th>\n",
       "    </tr>\n",
       "    <tr>\n",
       "      <th>product_name</th>\n",
       "      <th></th>\n",
       "    </tr>\n",
       "  </thead>\n",
       "  <tbody>\n",
       "    <tr>\n",
       "      <th>Sony Bravia 164 cm (65 inches) 4K Ultra HD Smart LED Google TV KD-65X74K (Black)</th>\n",
       "      <td>77990.0</td>\n",
       "    </tr>\n",
       "    <tr>\n",
       "      <th>OnePlus 163.8 cm (65 inches) U Series 4K LED Smart Android TV 65U1S (Black)</th>\n",
       "      <td>61999.0</td>\n",
       "    </tr>\n",
       "    <tr>\n",
       "      <th>VU 164 cm (65 inches) The GloLED Series 4K Smart LED Google TV 65GloLED (Grey)</th>\n",
       "      <td>54990.0</td>\n",
       "    </tr>\n",
       "    <tr>\n",
       "      <th>LG 139 cm (55 inches) 4K Ultra HD Smart LED TV 55UQ7500PSF (Ceramic Black)</th>\n",
       "      <td>47990.0</td>\n",
       "    </tr>\n",
       "    <tr>\n",
       "      <th>Samsung 138 cm (55 inches) Crystal 4K Neo Series Ultra HD Smart LED TV UA55AUE65AKXXL (Black)</th>\n",
       "      <td>47990.0</td>\n",
       "    </tr>\n",
       "    <tr>\n",
       "      <th>MI 138.8 cm (55 inches) 5X Series 4K Ultra HD LED Smart Android TV L55M6-ES (Grey)</th>\n",
       "      <td>46999.0</td>\n",
       "    </tr>\n",
       "    <tr>\n",
       "      <th>Samsung 138 cm (55 inches) Crystal 4K Series Ultra HD Smart LED TV UA55AUE60AKLXL (Black)</th>\n",
       "      <td>45999.0</td>\n",
       "    </tr>\n",
       "    <tr>\n",
       "      <th>OnePlus 10T 5G (Moonstone Black, 8GB RAM, 128GB Storage)</th>\n",
       "      <td>44999.0</td>\n",
       "    </tr>\n",
       "    <tr>\n",
       "      <th>OnePlus 138.7 cm (55 inches) U Series 4K LED Smart Android TV 55U1S (Black)</th>\n",
       "      <td>42999.0</td>\n",
       "    </tr>\n",
       "    <tr>\n",
       "      <th>LG 1.5 Ton 5 Star AI DUAL Inverter Split AC (Copper, Super Convertible 6-in-1 Cooling, HD Filter with Anti-Virus Protection, 2022 Model, PS-Q19YNZE, White)</th>\n",
       "      <td>42990.0</td>\n",
       "    </tr>\n",
       "  </tbody>\n",
       "</table>\n",
       "</div>"
      ],
      "text/plain": [
       "                                                   discounted_price\n",
       "                                                                sum\n",
       "product_name                                                       \n",
       "Sony Bravia 164 cm (65 inches) 4K Ultra HD Smar...          77990.0\n",
       "OnePlus 163.8 cm (65 inches) U Series 4K LED Sm...          61999.0\n",
       "VU 164 cm (65 inches) The GloLED Series 4K Smar...          54990.0\n",
       "LG 139 cm (55 inches) 4K Ultra HD Smart LED TV ...          47990.0\n",
       "Samsung 138 cm (55 inches) Crystal 4K Neo Serie...          47990.0\n",
       "MI 138.8 cm (55 inches) 5X Series 4K Ultra HD L...          46999.0\n",
       "Samsung 138 cm (55 inches) Crystal 4K Series Ul...          45999.0\n",
       "OnePlus 10T 5G (Moonstone Black, 8GB RAM, 128GB...          44999.0\n",
       "OnePlus 138.7 cm (55 inches) U Series 4K LED Sm...          42999.0\n",
       "LG 1.5 Ton 5 Star AI DUAL Inverter Split AC (Co...          42990.0"
      ]
     },
     "execution_count": 111,
     "metadata": {},
     "output_type": "execute_result"
    }
   ],
   "source": [
    "df1 .groupby('product_name').agg({'discounted_price':['sum']})   \\\n",
    "    .sort_values(by=('discounted_price', 'sum'), ascending=False)   \\\n",
    "    .head(10)"
   ]
  },
  {
   "attachments": {},
   "cell_type": "markdown",
   "metadata": {},
   "source": [
    "En esta tabla podemos destacar que los productos mas repetidos son televisiones, y que a pesar del alto margen descuento otorgado, aun retornan ganancias."
   ]
  },
  {
   "attachments": {},
   "cell_type": "markdown",
   "metadata": {},
   "source": [
    "## Categorias con mayor porcentaje de descuento\n"
   ]
  },
  {
   "cell_type": "code",
   "execution_count": 112,
   "metadata": {},
   "outputs": [
    {
     "data": {
      "text/plain": [
       "<Axes: xlabel='discount_percentage', ylabel='main_category'>"
      ]
     },
     "execution_count": 112,
     "metadata": {},
     "output_type": "execute_result"
    },
    {
     "data": {
      "image/png": "[encoded data removed]",
      "text/plain": [
       "<Figure size 640x480 with 1 Axes>"
      ]
     },
     "metadata": {},
     "output_type": "display_data"
    }
   ],
   "source": [
    "cat_mean = df1  .groupby('main_category').agg({'discount_percentage':'mean'}) \\\n",
    "                .sort_values(by='discount_percentage', ascending=False)\n",
    "\n",
    "sns.barplot(data=cat_mean, y=cat_mean.index, x='discount_percentage', palette='Spectral',)\n"
   ]
  },
  {
   "attachments": {},
   "cell_type": "markdown",
   "metadata": {},
   "source": [
    "Aqui podemos analizar que el promedio de porcentaje de descuento ronda entre un 40% y 50%"
   ]
  }
 ],
 "metadata": {
  "kernelspec": {
   "display_name": "Python 3",
   "language": "python",
   "name": "python3"
  },
  "language_info": {
   "codemirror_mode": {
    "name": "ipython",
    "version": 3
   },
   "file_extension": ".py",
   "mimetype": "text/x-python",
   "name": "python",
   "nbconvert_exporter": "python",
   "pygments_lexer": "ipython3",
   "version": "3.9.6"
  },
  "orig_nbformat": 4
 },
 "nbformat": 4,
 "nbformat_minor": 2
}
